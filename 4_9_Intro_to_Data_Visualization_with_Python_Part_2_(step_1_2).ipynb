{
  "nbformat": 4,
  "nbformat_minor": 0,
  "metadata": {
    "colab": {
      "provenance": [],
      "machine_shape": "hm"
    },
    "kernelspec": {
      "name": "python3",
      "display_name": "Python 3"
    },
    "language_info": {
      "name": "python"
    },
    "gpuClass": "standard"
  },
  "cells": [
    {
      "cell_type": "markdown",
      "source": [
        "**Step 1:** Create a new notebook, import the necessary analysis and visualization libraries, then import your most up-to-date project data (i.e., the data set with your new customer data from the first part of this task)."
      ],
      "metadata": {
        "id": "UCE5bjjbsxyZ"
      }
    },
    {
      "cell_type": "code",
      "execution_count": 1,
      "metadata": {
        "id": "9-x1fVibZaBR"
      },
      "outputs": [],
      "source": [
        "import numpy as np\n",
        "import pandas as pd\n",
        "import matplotlib.pyplot as plt\n",
        "import seaborn as sns\n",
        "import scipy"
      ]
    },
    {
      "cell_type": "code",
      "source": [
        "df = pd.read_pickle('/content/drive/MyDrive/df_merged_final_task_4.9.pkl')"
      ],
      "metadata": {
        "id": "_XfWTLS0Z1KU"
      },
      "execution_count": 2,
      "outputs": []
    },
    {
      "cell_type": "code",
      "source": [
        "df.head()"
      ],
      "metadata": {
        "colab": {
          "base_uri": "https://localhost:8080/",
          "height": 317
        },
        "id": "AYph7A-Q8eea",
        "outputId": "05638563-48ff-438c-8b84-9f70f5dc7cb1"
      },
      "execution_count": 10,
      "outputs": [
        {
          "output_type": "execute_result",
          "data": {
            "text/plain": [
              "   order_id  user_id  order_number  order_day_of_week  order_hour_of_day  \\\n",
              "0   2539329        1             1                  2                  8   \n",
              "1   2398795        1             2                  3                  7   \n",
              "2    473747        1             3                  3                 12   \n",
              "3   2254736        1             4                  4                  7   \n",
              "4    431534        1             5                  4                 15   \n",
              "\n",
              "   days_since_prior_order  product_id  add_to_cart_order  reordered  \\\n",
              "0                     NaN         196                  1          0   \n",
              "1                    15.0         196                  1          1   \n",
              "2                    21.0         196                  1          1   \n",
              "3                    29.0         196                  1          1   \n",
              "4                    28.0         196                  1          1   \n",
              "\n",
              "  product_name  ...  order_frequency_flag  First Name  Surname  Gender  \\\n",
              "0         Soda  ...      Regular customer       Linda   Nguyen  Female   \n",
              "1         Soda  ...      Regular customer       Linda   Nguyen  Female   \n",
              "2         Soda  ...      Regular customer       Linda   Nguyen  Female   \n",
              "3         Soda  ...      Regular customer       Linda   Nguyen  Female   \n",
              "4         Soda  ...      Regular customer       Linda   Nguyen  Female   \n",
              "\n",
              "     State Age  date_joined number_of_dependants  marital_status income  \n",
              "0  Alabama  31    2/17/2019                    3         married  40423  \n",
              "1  Alabama  31    2/17/2019                    3         married  40423  \n",
              "2  Alabama  31    2/17/2019                    3         married  40423  \n",
              "3  Alabama  31    2/17/2019                    3         married  40423  \n",
              "4  Alabama  31    2/17/2019                    3         married  40423  \n",
              "\n",
              "[5 rows x 31 columns]"
            ],
            "text/html": [
              "\n",
              "  <div id=\"df-5bc4c5b4-735f-42c8-9a60-609418f67be5\">\n",
              "    <div class=\"colab-df-container\">\n",
              "      <div>\n",
              "<style scoped>\n",
              "    .dataframe tbody tr th:only-of-type {\n",
              "        vertical-align: middle;\n",
              "    }\n",
              "\n",
              "    .dataframe tbody tr th {\n",
              "        vertical-align: top;\n",
              "    }\n",
              "\n",
              "    .dataframe thead th {\n",
              "        text-align: right;\n",
              "    }\n",
              "</style>\n",
              "<table border=\"1\" class=\"dataframe\">\n",
              "  <thead>\n",
              "    <tr style=\"text-align: right;\">\n",
              "      <th></th>\n",
              "      <th>order_id</th>\n",
              "      <th>user_id</th>\n",
              "      <th>order_number</th>\n",
              "      <th>order_day_of_week</th>\n",
              "      <th>order_hour_of_day</th>\n",
              "      <th>days_since_prior_order</th>\n",
              "      <th>product_id</th>\n",
              "      <th>add_to_cart_order</th>\n",
              "      <th>reordered</th>\n",
              "      <th>product_name</th>\n",
              "      <th>...</th>\n",
              "      <th>order_frequency_flag</th>\n",
              "      <th>First Name</th>\n",
              "      <th>Surname</th>\n",
              "      <th>Gender</th>\n",
              "      <th>State</th>\n",
              "      <th>Age</th>\n",
              "      <th>date_joined</th>\n",
              "      <th>number_of_dependants</th>\n",
              "      <th>marital_status</th>\n",
              "      <th>income</th>\n",
              "    </tr>\n",
              "  </thead>\n",
              "  <tbody>\n",
              "    <tr>\n",
              "      <th>0</th>\n",
              "      <td>2539329</td>\n",
              "      <td>1</td>\n",
              "      <td>1</td>\n",
              "      <td>2</td>\n",
              "      <td>8</td>\n",
              "      <td>NaN</td>\n",
              "      <td>196</td>\n",
              "      <td>1</td>\n",
              "      <td>0</td>\n",
              "      <td>Soda</td>\n",
              "      <td>...</td>\n",
              "      <td>Regular customer</td>\n",
              "      <td>Linda</td>\n",
              "      <td>Nguyen</td>\n",
              "      <td>Female</td>\n",
              "      <td>Alabama</td>\n",
              "      <td>31</td>\n",
              "      <td>2/17/2019</td>\n",
              "      <td>3</td>\n",
              "      <td>married</td>\n",
              "      <td>40423</td>\n",
              "    </tr>\n",
              "    <tr>\n",
              "      <th>1</th>\n",
              "      <td>2398795</td>\n",
              "      <td>1</td>\n",
              "      <td>2</td>\n",
              "      <td>3</td>\n",
              "      <td>7</td>\n",
              "      <td>15.0</td>\n",
              "      <td>196</td>\n",
              "      <td>1</td>\n",
              "      <td>1</td>\n",
              "      <td>Soda</td>\n",
              "      <td>...</td>\n",
              "      <td>Regular customer</td>\n",
              "      <td>Linda</td>\n",
              "      <td>Nguyen</td>\n",
              "      <td>Female</td>\n",
              "      <td>Alabama</td>\n",
              "      <td>31</td>\n",
              "      <td>2/17/2019</td>\n",
              "      <td>3</td>\n",
              "      <td>married</td>\n",
              "      <td>40423</td>\n",
              "    </tr>\n",
              "    <tr>\n",
              "      <th>2</th>\n",
              "      <td>473747</td>\n",
              "      <td>1</td>\n",
              "      <td>3</td>\n",
              "      <td>3</td>\n",
              "      <td>12</td>\n",
              "      <td>21.0</td>\n",
              "      <td>196</td>\n",
              "      <td>1</td>\n",
              "      <td>1</td>\n",
              "      <td>Soda</td>\n",
              "      <td>...</td>\n",
              "      <td>Regular customer</td>\n",
              "      <td>Linda</td>\n",
              "      <td>Nguyen</td>\n",
              "      <td>Female</td>\n",
              "      <td>Alabama</td>\n",
              "      <td>31</td>\n",
              "      <td>2/17/2019</td>\n",
              "      <td>3</td>\n",
              "      <td>married</td>\n",
              "      <td>40423</td>\n",
              "    </tr>\n",
              "    <tr>\n",
              "      <th>3</th>\n",
              "      <td>2254736</td>\n",
              "      <td>1</td>\n",
              "      <td>4</td>\n",
              "      <td>4</td>\n",
              "      <td>7</td>\n",
              "      <td>29.0</td>\n",
              "      <td>196</td>\n",
              "      <td>1</td>\n",
              "      <td>1</td>\n",
              "      <td>Soda</td>\n",
              "      <td>...</td>\n",
              "      <td>Regular customer</td>\n",
              "      <td>Linda</td>\n",
              "      <td>Nguyen</td>\n",
              "      <td>Female</td>\n",
              "      <td>Alabama</td>\n",
              "      <td>31</td>\n",
              "      <td>2/17/2019</td>\n",
              "      <td>3</td>\n",
              "      <td>married</td>\n",
              "      <td>40423</td>\n",
              "    </tr>\n",
              "    <tr>\n",
              "      <th>4</th>\n",
              "      <td>431534</td>\n",
              "      <td>1</td>\n",
              "      <td>5</td>\n",
              "      <td>4</td>\n",
              "      <td>15</td>\n",
              "      <td>28.0</td>\n",
              "      <td>196</td>\n",
              "      <td>1</td>\n",
              "      <td>1</td>\n",
              "      <td>Soda</td>\n",
              "      <td>...</td>\n",
              "      <td>Regular customer</td>\n",
              "      <td>Linda</td>\n",
              "      <td>Nguyen</td>\n",
              "      <td>Female</td>\n",
              "      <td>Alabama</td>\n",
              "      <td>31</td>\n",
              "      <td>2/17/2019</td>\n",
              "      <td>3</td>\n",
              "      <td>married</td>\n",
              "      <td>40423</td>\n",
              "    </tr>\n",
              "  </tbody>\n",
              "</table>\n",
              "<p>5 rows × 31 columns</p>\n",
              "</div>\n",
              "      <button class=\"colab-df-convert\" onclick=\"convertToInteractive('df-5bc4c5b4-735f-42c8-9a60-609418f67be5')\"\n",
              "              title=\"Convert this dataframe to an interactive table.\"\n",
              "              style=\"display:none;\">\n",
              "        \n",
              "  <svg xmlns=\"http://www.w3.org/2000/svg\" height=\"24px\"viewBox=\"0 0 24 24\"\n",
              "       width=\"24px\">\n",
              "    <path d=\"M0 0h24v24H0V0z\" fill=\"none\"/>\n",
              "    <path d=\"M18.56 5.44l.94 2.06.94-2.06 2.06-.94-2.06-.94-.94-2.06-.94 2.06-2.06.94zm-11 1L8.5 8.5l.94-2.06 2.06-.94-2.06-.94L8.5 2.5l-.94 2.06-2.06.94zm10 10l.94 2.06.94-2.06 2.06-.94-2.06-.94-.94-2.06-.94 2.06-2.06.94z\"/><path d=\"M17.41 7.96l-1.37-1.37c-.4-.4-.92-.59-1.43-.59-.52 0-1.04.2-1.43.59L10.3 9.45l-7.72 7.72c-.78.78-.78 2.05 0 2.83L4 21.41c.39.39.9.59 1.41.59.51 0 1.02-.2 1.41-.59l7.78-7.78 2.81-2.81c.8-.78.8-2.07 0-2.86zM5.41 20L4 18.59l7.72-7.72 1.47 1.35L5.41 20z\"/>\n",
              "  </svg>\n",
              "      </button>\n",
              "      \n",
              "  <style>\n",
              "    .colab-df-container {\n",
              "      display:flex;\n",
              "      flex-wrap:wrap;\n",
              "      gap: 12px;\n",
              "    }\n",
              "\n",
              "    .colab-df-convert {\n",
              "      background-color: #E8F0FE;\n",
              "      border: none;\n",
              "      border-radius: 50%;\n",
              "      cursor: pointer;\n",
              "      display: none;\n",
              "      fill: #1967D2;\n",
              "      height: 32px;\n",
              "      padding: 0 0 0 0;\n",
              "      width: 32px;\n",
              "    }\n",
              "\n",
              "    .colab-df-convert:hover {\n",
              "      background-color: #E2EBFA;\n",
              "      box-shadow: 0px 1px 2px rgba(60, 64, 67, 0.3), 0px 1px 3px 1px rgba(60, 64, 67, 0.15);\n",
              "      fill: #174EA6;\n",
              "    }\n",
              "\n",
              "    [theme=dark] .colab-df-convert {\n",
              "      background-color: #3B4455;\n",
              "      fill: #D2E3FC;\n",
              "    }\n",
              "\n",
              "    [theme=dark] .colab-df-convert:hover {\n",
              "      background-color: #434B5C;\n",
              "      box-shadow: 0px 1px 3px 1px rgba(0, 0, 0, 0.15);\n",
              "      filter: drop-shadow(0px 1px 2px rgba(0, 0, 0, 0.3));\n",
              "      fill: #FFFFFF;\n",
              "    }\n",
              "  </style>\n",
              "\n",
              "      <script>\n",
              "        const buttonEl =\n",
              "          document.querySelector('#df-5bc4c5b4-735f-42c8-9a60-609418f67be5 button.colab-df-convert');\n",
              "        buttonEl.style.display =\n",
              "          google.colab.kernel.accessAllowed ? 'block' : 'none';\n",
              "\n",
              "        async function convertToInteractive(key) {\n",
              "          const element = document.querySelector('#df-5bc4c5b4-735f-42c8-9a60-609418f67be5');\n",
              "          const dataTable =\n",
              "            await google.colab.kernel.invokeFunction('convertToInteractive',\n",
              "                                                     [key], {});\n",
              "          if (!dataTable) return;\n",
              "\n",
              "          const docLinkHtml = 'Like what you see? Visit the ' +\n",
              "            '<a target=\"_blank\" href=https://colab.research.google.com/notebooks/data_table.ipynb>data table notebook</a>'\n",
              "            + ' to learn more about interactive tables.';\n",
              "          element.innerHTML = '';\n",
              "          dataTable['output_type'] = 'display_data';\n",
              "          await google.colab.output.renderOutput(dataTable, element);\n",
              "          const docLink = document.createElement('div');\n",
              "          docLink.innerHTML = docLinkHtml;\n",
              "          element.appendChild(docLink);\n",
              "        }\n",
              "      </script>\n",
              "    </div>\n",
              "  </div>\n",
              "  "
            ]
          },
          "metadata": {},
          "execution_count": 10
        }
      ]
    },
    {
      "cell_type": "code",
      "source": [
        "df.shape"
      ],
      "metadata": {
        "colab": {
          "base_uri": "https://localhost:8080/"
        },
        "id": "qH_SDpQUCIlp",
        "outputId": "7d12d371-5882-498d-df63-db2628fa7781"
      },
      "execution_count": 11,
      "outputs": [
        {
          "output_type": "execute_result",
          "data": {
            "text/plain": [
              "(32404859, 31)"
            ]
          },
          "metadata": {},
          "execution_count": 11
        }
      ]
    },
    {
      "cell_type": "markdown",
      "source": [
        "**Step 2:** If you haven’t done so already, follow the instructions in the Exercise to create a bar chart, a histogram, a scatterplot, and a line chart, using a sample subset for the line chart."
      ],
      "metadata": {
        "id": "i5O5HpWns6eW"
      }
    },
    {
      "cell_type": "markdown",
      "source": [
        "1.Creating Bar Charts"
      ],
      "metadata": {
        "id": "YF39ix_x6x3z"
      }
    },
    {
      "cell_type": "code",
      "source": [
        "df['order_day_of_week'].value_counts().plot.bar()"
      ],
      "metadata": {
        "colab": {
          "base_uri": "https://localhost:8080/",
          "height": 290
        },
        "id": "NF5fJ8Fns9ol",
        "outputId": "78a005c9-a0d8-4f90-cb68-67be32904339"
      },
      "execution_count": 12,
      "outputs": [
        {
          "output_type": "execute_result",
          "data": {
            "text/plain": [
              "<matplotlib.axes._subplots.AxesSubplot at 0x7f12fb1bb490>"
            ]
          },
          "metadata": {},
          "execution_count": 12
        },
        {
          "output_type": "display_data",
          "data": {
            "text/plain": [
              "<Figure size 432x288 with 1 Axes>"
            ],
            "image/png": "[encoded data removed]"
          },
          "metadata": {
            "needs_background": "light"
          }
        }
      ]
    },
    {
      "cell_type": "code",
      "source": [
        "df['order_day_of_week'].value_counts().sort_index().plot.bar(color =['purple', 'red', 'pink', 'orange', 'yellow', 'green', 'blue'])"
      ],
      "metadata": {
        "colab": {
          "base_uri": "https://localhost:8080/",
          "height": 290
        },
        "id": "mJJrGgjl8o-Q",
        "outputId": "7eb2d438-3c71-44d4-ef3a-1ea59bc3a492"
      },
      "execution_count": 13,
      "outputs": [
        {
          "output_type": "execute_result",
          "data": {
            "text/plain": [
              "<matplotlib.axes._subplots.AxesSubplot at 0x7f12faf76070>"
            ]
          },
          "metadata": {},
          "execution_count": 13
        },
        {
          "output_type": "display_data",
          "data": {
            "text/plain": [
              "<Figure size 432x288 with 1 Axes>"
            ],
            "image/png": "[encoded data removed]"
          },
          "metadata": {
            "needs_background": "light"
          }
        }
      ]
    },
    {
      "cell_type": "code",
      "source": [
        "#Exporting chart \n",
        "\n",
        "bar = df['order_day_of_week'].value_counts().plot.bar(color =['purple', 'red', 'pink', 'orange', 'yellow', 'green', 'blue'])"
      ],
      "metadata": {
        "colab": {
          "base_uri": "https://localhost:8080/",
          "height": 273
        },
        "id": "ttf3P50Cs9_9",
        "outputId": "909db0c8-d5f7-471c-ad6e-3c6a9293fae8"
      },
      "execution_count": 14,
      "outputs": [
        {
          "output_type": "display_data",
          "data": {
            "text/plain": [
              "<Figure size 432x288 with 1 Axes>"
            ],
            "image/png": "[encoded data removed]"
          },
          "metadata": {
            "needs_background": "light"
          }
        }
      ]
    },
    {
      "cell_type": "code",
      "source": [
        "bar.figure.savefig('bar_orders_dow.png')"
      ],
      "metadata": {
        "id": "ScTbNKu26ty1"
      },
      "execution_count": 15,
      "outputs": []
    },
    {
      "cell_type": "markdown",
      "source": [
        "2. Creating Histograms and Scatterplots"
      ],
      "metadata": {
        "id": "caaDFyj79Uou"
      }
    },
    {
      "cell_type": "code",
      "source": [
        "df['prices'].plot.hist(bins = 25)"
      ],
      "metadata": {
        "colab": {
          "base_uri": "https://localhost:8080/",
          "height": 293
        },
        "id": "b2kkqtSC6uF1",
        "outputId": "889948c4-2bdf-4cfb-9b84-bd4d6b4b15ec"
      },
      "execution_count": 16,
      "outputs": [
        {
          "output_type": "execute_result",
          "data": {
            "text/plain": [
              "<matplotlib.axes._subplots.AxesSubplot at 0x7f12faec8880>"
            ]
          },
          "metadata": {},
          "execution_count": 16
        },
        {
          "output_type": "display_data",
          "data": {
            "text/plain": [
              "<Figure size 432x288 with 1 Axes>"
            ],
            "image/png": "[encoded data removed]"
          },
          "metadata": {
            "needs_background": "light"
          }
        }
      ]
    },
    {
      "cell_type": "code",
      "source": [
        "sns.scatterplot(x = 'prices', y = 'prices',data = df)"
      ],
      "metadata": {
        "colab": {
          "base_uri": "https://localhost:8080/",
          "height": 296
        },
        "id": "2PkKm9VI6ubn",
        "outputId": "9a358876-356a-4fcd-b1e3-728433d41992"
      },
      "execution_count": 9,
      "outputs": [
        {
          "output_type": "execute_result",
          "data": {
            "text/plain": [
              "<matplotlib.axes._subplots.AxesSubplot at 0x7f235d101f70>"
            ]
          },
          "metadata": {},
          "execution_count": 9
        },
        {
          "output_type": "display_data",
          "data": {
            "text/plain": [
              "<Figure size 432x288 with 1 Axes>"
            ],
            "image/png": "[encoded data removed]"
          },
          "metadata": {
            "needs_background": "light"
          }
        }
      ]
    },
    {
      "cell_type": "code",
      "source": [
        "df.loc[df['prices'] > 100]"
      ],
      "metadata": {
        "colab": {
          "base_uri": "https://localhost:8080/",
          "height": 818
        },
        "id": "NO2hIHVn6u5i",
        "outputId": "6596a2d4-7384-486f-f2bf-772ec8905cc7"
      },
      "execution_count": 11,
      "outputs": [
        {
          "output_type": "execute_result",
          "data": {
            "text/plain": [
              "          order_id  user_id  order_number  order_day_of_week  \\\n",
              "7805       1435153     1519            26                  2   \n",
              "7806       1066435     1519            32                  3   \n",
              "15143      1697208     2409            33                  1   \n",
              "20264       965345     3531            27                  2   \n",
              "20497      2943740     3793             1                  2   \n",
              "...            ...      ...           ...                ...   \n",
              "32303799   3265389    51346             4                  1   \n",
              "32307882   1179092   131671            12                  4   \n",
              "32310810   1226705    39667             7                  2   \n",
              "32330048   3000037    95105             2                  4   \n",
              "32330049   2741225    95105             4                  5   \n",
              "\n",
              "          order_hour_of_day  days_since_prior_order  product_id  \\\n",
              "7805                     11                     6.0       21553   \n",
              "7806                     10                     5.0       21553   \n",
              "15143                    19                     5.0       21553   \n",
              "20264                    19                     8.0       33664   \n",
              "20497                     9                     NaN       21553   \n",
              "...                     ...                     ...         ...   \n",
              "32303799                 17                    13.0       33664   \n",
              "32307882                  9                    15.0       33664   \n",
              "32310810                 15                    20.0       33664   \n",
              "32330048                 19                    22.0       33664   \n",
              "32330049                 12                     2.0       33664   \n",
              "\n",
              "          add_to_cart_order  reordered                      product_name  ...  \\\n",
              "7805                     15          0  Lowfat 2% Milkfat Cottage Cheese  ...   \n",
              "7806                     28          1  Lowfat 2% Milkfat Cottage Cheese  ...   \n",
              "15143                     1          0  Lowfat 2% Milkfat Cottage Cheese  ...   \n",
              "20264                     2          0             2 % Reduced Fat  Milk  ...   \n",
              "20497                     3          0  Lowfat 2% Milkfat Cottage Cheese  ...   \n",
              "...                     ...        ...                               ...  ...   \n",
              "32303799                  2          1             2 % Reduced Fat  Milk  ...   \n",
              "32307882                  1          0             2 % Reduced Fat  Milk  ...   \n",
              "32310810                 14          0             2 % Reduced Fat  Milk  ...   \n",
              "32330048                  4          0             2 % Reduced Fat  Milk  ...   \n",
              "32330049                  3          1             2 % Reduced Fat  Milk  ...   \n",
              "\n",
              "           order_frequency_flag  First Name   Surname  Gender           State  \\\n",
              "7805          Frequent customer       Craig     Clark    Male    Rhode Island   \n",
              "7806          Frequent customer       Craig     Clark    Male    Rhode Island   \n",
              "15143         Frequent customer      Nicole  Odonnell  Female          Hawaii   \n",
              "20264         Frequent customer       Alice   Compton  Female          Hawaii   \n",
              "20497         Frequent customer       Jerry     Allen    Male       Louisiana   \n",
              "...                         ...         ...       ...     ...             ...   \n",
              "32303799       Regular customer         nan     Gould    Male    Rhode Island   \n",
              "32307882       Regular customer       Diana    Hansen  Female    Rhode Island   \n",
              "32310810  Non-frequent customer      Johnny     Colon    Male    Rhode Island   \n",
              "32330048      Frequent customer   Catherine  Browning  Female  South Carolina   \n",
              "32330049      Frequent customer   Catherine  Browning  Female  South Carolina   \n",
              "\n",
              "         Age  date_joined number_of_dependants    marital_status  income  \n",
              "7805      68     3/4/2020                    0  divorced/widowed  177864  \n",
              "7806      68     3/4/2020                    0  divorced/widowed  177864  \n",
              "15143     55   11/11/2018                    2           married  230074  \n",
              "20264     80    10/6/2019                    2           married  233776  \n",
              "20497     59    8/23/2019                    3           married  182933  \n",
              "...       ..          ...                  ...               ...     ...  \n",
              "32303799  58    1/25/2019                    1           married  207497  \n",
              "32307882  35     8/4/2018                    0            single   86490  \n",
              "32310810  78     5/8/2019                    2           married  195077  \n",
              "32330048  48    1/18/2017                    2           married  398880  \n",
              "32330049  48    1/18/2017                    2           married  398880  \n",
              "\n",
              "[5127 rows x 31 columns]"
            ],
            "text/html": [
              "\n",
              "  <div id=\"df-2b2eac08-41b5-453b-8d52-d1c1da4ab718\">\n",
              "    <div class=\"colab-df-container\">\n",
              "      <div>\n",
              "<style scoped>\n",
              "    .dataframe tbody tr th:only-of-type {\n",
              "        vertical-align: middle;\n",
              "    }\n",
              "\n",
              "    .dataframe tbody tr th {\n",
              "        vertical-align: top;\n",
              "    }\n",
              "\n",
              "    .dataframe thead th {\n",
              "        text-align: right;\n",
              "    }\n",
              "</style>\n",
              "<table border=\"1\" class=\"dataframe\">\n",
              "  <thead>\n",
              "    <tr style=\"text-align: right;\">\n",
              "      <th></th>\n",
              "      <th>order_id</th>\n",
              "      <th>user_id</th>\n",
              "      <th>order_number</th>\n",
              "      <th>order_day_of_week</th>\n",
              "      <th>order_hour_of_day</th>\n",
              "      <th>days_since_prior_order</th>\n",
              "      <th>product_id</th>\n",
              "      <th>add_to_cart_order</th>\n",
              "      <th>reordered</th>\n",
              "      <th>product_name</th>\n",
              "      <th>...</th>\n",
              "      <th>order_frequency_flag</th>\n",
              "      <th>First Name</th>\n",
              "      <th>Surname</th>\n",
              "      <th>Gender</th>\n",
              "      <th>State</th>\n",
              "      <th>Age</th>\n",
              "      <th>date_joined</th>\n",
              "      <th>number_of_dependants</th>\n",
              "      <th>marital_status</th>\n",
              "      <th>income</th>\n",
              "    </tr>\n",
              "  </thead>\n",
              "  <tbody>\n",
              "    <tr>\n",
              "      <th>7805</th>\n",
              "      <td>1435153</td>\n",
              "      <td>1519</td>\n",
              "      <td>26</td>\n",
              "      <td>2</td>\n",
              "      <td>11</td>\n",
              "      <td>6.0</td>\n",
              "      <td>21553</td>\n",
              "      <td>15</td>\n",
              "      <td>0</td>\n",
              "      <td>Lowfat 2% Milkfat Cottage Cheese</td>\n",
              "      <td>...</td>\n",
              "      <td>Frequent customer</td>\n",
              "      <td>Craig</td>\n",
              "      <td>Clark</td>\n",
              "      <td>Male</td>\n",
              "      <td>Rhode Island</td>\n",
              "      <td>68</td>\n",
              "      <td>3/4/2020</td>\n",
              "      <td>0</td>\n",
              "      <td>divorced/widowed</td>\n",
              "      <td>177864</td>\n",
              "    </tr>\n",
              "    <tr>\n",
              "      <th>7806</th>\n",
              "      <td>1066435</td>\n",
              "      <td>1519</td>\n",
              "      <td>32</td>\n",
              "      <td>3</td>\n",
              "      <td>10</td>\n",
              "      <td>5.0</td>\n",
              "      <td>21553</td>\n",
              "      <td>28</td>\n",
              "      <td>1</td>\n",
              "      <td>Lowfat 2% Milkfat Cottage Cheese</td>\n",
              "      <td>...</td>\n",
              "      <td>Frequent customer</td>\n",
              "      <td>Craig</td>\n",
              "      <td>Clark</td>\n",
              "      <td>Male</td>\n",
              "      <td>Rhode Island</td>\n",
              "      <td>68</td>\n",
              "      <td>3/4/2020</td>\n",
              "      <td>0</td>\n",
              "      <td>divorced/widowed</td>\n",
              "      <td>177864</td>\n",
              "    </tr>\n",
              "    <tr>\n",
              "      <th>15143</th>\n",
              "      <td>1697208</td>\n",
              "      <td>2409</td>\n",
              "      <td>33</td>\n",
              "      <td>1</td>\n",
              "      <td>19</td>\n",
              "      <td>5.0</td>\n",
              "      <td>21553</td>\n",
              "      <td>1</td>\n",
              "      <td>0</td>\n",
              "      <td>Lowfat 2% Milkfat Cottage Cheese</td>\n",
              "      <td>...</td>\n",
              "      <td>Frequent customer</td>\n",
              "      <td>Nicole</td>\n",
              "      <td>Odonnell</td>\n",
              "      <td>Female</td>\n",
              "      <td>Hawaii</td>\n",
              "      <td>55</td>\n",
              "      <td>11/11/2018</td>\n",
              "      <td>2</td>\n",
              "      <td>married</td>\n",
              "      <td>230074</td>\n",
              "    </tr>\n",
              "    <tr>\n",
              "      <th>20264</th>\n",
              "      <td>965345</td>\n",
              "      <td>3531</td>\n",
              "      <td>27</td>\n",
              "      <td>2</td>\n",
              "      <td>19</td>\n",
              "      <td>8.0</td>\n",
              "      <td>33664</td>\n",
              "      <td>2</td>\n",
              "      <td>0</td>\n",
              "      <td>2 % Reduced Fat  Milk</td>\n",
              "      <td>...</td>\n",
              "      <td>Frequent customer</td>\n",
              "      <td>Alice</td>\n",
              "      <td>Compton</td>\n",
              "      <td>Female</td>\n",
              "      <td>Hawaii</td>\n",
              "      <td>80</td>\n",
              "      <td>10/6/2019</td>\n",
              "      <td>2</td>\n",
              "      <td>married</td>\n",
              "      <td>233776</td>\n",
              "    </tr>\n",
              "    <tr>\n",
              "      <th>20497</th>\n",
              "      <td>2943740</td>\n",
              "      <td>3793</td>\n",
              "      <td>1</td>\n",
              "      <td>2</td>\n",
              "      <td>9</td>\n",
              "      <td>NaN</td>\n",
              "      <td>21553</td>\n",
              "      <td>3</td>\n",
              "      <td>0</td>\n",
              "      <td>Lowfat 2% Milkfat Cottage Cheese</td>\n",
              "      <td>...</td>\n",
              "      <td>Frequent customer</td>\n",
              "      <td>Jerry</td>\n",
              "      <td>Allen</td>\n",
              "      <td>Male</td>\n",
              "      <td>Louisiana</td>\n",
              "      <td>59</td>\n",
              "      <td>8/23/2019</td>\n",
              "      <td>3</td>\n",
              "      <td>married</td>\n",
              "      <td>182933</td>\n",
              "    </tr>\n",
              "    <tr>\n",
              "      <th>...</th>\n",
              "      <td>...</td>\n",
              "      <td>...</td>\n",
              "      <td>...</td>\n",
              "      <td>...</td>\n",
              "      <td>...</td>\n",
              "      <td>...</td>\n",
              "      <td>...</td>\n",
              "      <td>...</td>\n",
              "      <td>...</td>\n",
              "      <td>...</td>\n",
              "      <td>...</td>\n",
              "      <td>...</td>\n",
              "      <td>...</td>\n",
              "      <td>...</td>\n",
              "      <td>...</td>\n",
              "      <td>...</td>\n",
              "      <td>...</td>\n",
              "      <td>...</td>\n",
              "      <td>...</td>\n",
              "      <td>...</td>\n",
              "      <td>...</td>\n",
              "    </tr>\n",
              "    <tr>\n",
              "      <th>32303799</th>\n",
              "      <td>3265389</td>\n",
              "      <td>51346</td>\n",
              "      <td>4</td>\n",
              "      <td>1</td>\n",
              "      <td>17</td>\n",
              "      <td>13.0</td>\n",
              "      <td>33664</td>\n",
              "      <td>2</td>\n",
              "      <td>1</td>\n",
              "      <td>2 % Reduced Fat  Milk</td>\n",
              "      <td>...</td>\n",
              "      <td>Regular customer</td>\n",
              "      <td>nan</td>\n",
              "      <td>Gould</td>\n",
              "      <td>Male</td>\n",
              "      <td>Rhode Island</td>\n",
              "      <td>58</td>\n",
              "      <td>1/25/2019</td>\n",
              "      <td>1</td>\n",
              "      <td>married</td>\n",
              "      <td>207497</td>\n",
              "    </tr>\n",
              "    <tr>\n",
              "      <th>32307882</th>\n",
              "      <td>1179092</td>\n",
              "      <td>131671</td>\n",
              "      <td>12</td>\n",
              "      <td>4</td>\n",
              "      <td>9</td>\n",
              "      <td>15.0</td>\n",
              "      <td>33664</td>\n",
              "      <td>1</td>\n",
              "      <td>0</td>\n",
              "      <td>2 % Reduced Fat  Milk</td>\n",
              "      <td>...</td>\n",
              "      <td>Regular customer</td>\n",
              "      <td>Diana</td>\n",
              "      <td>Hansen</td>\n",
              "      <td>Female</td>\n",
              "      <td>Rhode Island</td>\n",
              "      <td>35</td>\n",
              "      <td>8/4/2018</td>\n",
              "      <td>0</td>\n",
              "      <td>single</td>\n",
              "      <td>86490</td>\n",
              "    </tr>\n",
              "    <tr>\n",
              "      <th>32310810</th>\n",
              "      <td>1226705</td>\n",
              "      <td>39667</td>\n",
              "      <td>7</td>\n",
              "      <td>2</td>\n",
              "      <td>15</td>\n",
              "      <td>20.0</td>\n",
              "      <td>33664</td>\n",
              "      <td>14</td>\n",
              "      <td>0</td>\n",
              "      <td>2 % Reduced Fat  Milk</td>\n",
              "      <td>...</td>\n",
              "      <td>Non-frequent customer</td>\n",
              "      <td>Johnny</td>\n",
              "      <td>Colon</td>\n",
              "      <td>Male</td>\n",
              "      <td>Rhode Island</td>\n",
              "      <td>78</td>\n",
              "      <td>5/8/2019</td>\n",
              "      <td>2</td>\n",
              "      <td>married</td>\n",
              "      <td>195077</td>\n",
              "    </tr>\n",
              "    <tr>\n",
              "      <th>32330048</th>\n",
              "      <td>3000037</td>\n",
              "      <td>95105</td>\n",
              "      <td>2</td>\n",
              "      <td>4</td>\n",
              "      <td>19</td>\n",
              "      <td>22.0</td>\n",
              "      <td>33664</td>\n",
              "      <td>4</td>\n",
              "      <td>0</td>\n",
              "      <td>2 % Reduced Fat  Milk</td>\n",
              "      <td>...</td>\n",
              "      <td>Frequent customer</td>\n",
              "      <td>Catherine</td>\n",
              "      <td>Browning</td>\n",
              "      <td>Female</td>\n",
              "      <td>South Carolina</td>\n",
              "      <td>48</td>\n",
              "      <td>1/18/2017</td>\n",
              "      <td>2</td>\n",
              "      <td>married</td>\n",
              "      <td>398880</td>\n",
              "    </tr>\n",
              "    <tr>\n",
              "      <th>32330049</th>\n",
              "      <td>2741225</td>\n",
              "      <td>95105</td>\n",
              "      <td>4</td>\n",
              "      <td>5</td>\n",
              "      <td>12</td>\n",
              "      <td>2.0</td>\n",
              "      <td>33664</td>\n",
              "      <td>3</td>\n",
              "      <td>1</td>\n",
              "      <td>2 % Reduced Fat  Milk</td>\n",
              "      <td>...</td>\n",
              "      <td>Frequent customer</td>\n",
              "      <td>Catherine</td>\n",
              "      <td>Browning</td>\n",
              "      <td>Female</td>\n",
              "      <td>South Carolina</td>\n",
              "      <td>48</td>\n",
              "      <td>1/18/2017</td>\n",
              "      <td>2</td>\n",
              "      <td>married</td>\n",
              "      <td>398880</td>\n",
              "    </tr>\n",
              "  </tbody>\n",
              "</table>\n",
              "<p>5127 rows × 31 columns</p>\n",
              "</div>\n",
              "      <button class=\"colab-df-convert\" onclick=\"convertToInteractive('df-2b2eac08-41b5-453b-8d52-d1c1da4ab718')\"\n",
              "              title=\"Convert this dataframe to an interactive table.\"\n",
              "              style=\"display:none;\">\n",
              "        \n",
              "  <svg xmlns=\"http://www.w3.org/2000/svg\" height=\"24px\"viewBox=\"0 0 24 24\"\n",
              "       width=\"24px\">\n",
              "    <path d=\"M0 0h24v24H0V0z\" fill=\"none\"/>\n",
              "    <path d=\"M18.56 5.44l.94 2.06.94-2.06 2.06-.94-2.06-.94-.94-2.06-.94 2.06-2.06.94zm-11 1L8.5 8.5l.94-2.06 2.06-.94-2.06-.94L8.5 2.5l-.94 2.06-2.06.94zm10 10l.94 2.06.94-2.06 2.06-.94-2.06-.94-.94-2.06-.94 2.06-2.06.94z\"/><path d=\"M17.41 7.96l-1.37-1.37c-.4-.4-.92-.59-1.43-.59-.52 0-1.04.2-1.43.59L10.3 9.45l-7.72 7.72c-.78.78-.78 2.05 0 2.83L4 21.41c.39.39.9.59 1.41.59.51 0 1.02-.2 1.41-.59l7.78-7.78 2.81-2.81c.8-.78.8-2.07 0-2.86zM5.41 20L4 18.59l7.72-7.72 1.47 1.35L5.41 20z\"/>\n",
              "  </svg>\n",
              "      </button>\n",
              "      \n",
              "  <style>\n",
              "    .colab-df-container {\n",
              "      display:flex;\n",
              "      flex-wrap:wrap;\n",
              "      gap: 12px;\n",
              "    }\n",
              "\n",
              "    .colab-df-convert {\n",
              "      background-color: #E8F0FE;\n",
              "      border: none;\n",
              "      border-radius: 50%;\n",
              "      cursor: pointer;\n",
              "      display: none;\n",
              "      fill: #1967D2;\n",
              "      height: 32px;\n",
              "      padding: 0 0 0 0;\n",
              "      width: 32px;\n",
              "    }\n",
              "\n",
              "    .colab-df-convert:hover {\n",
              "      background-color: #E2EBFA;\n",
              "      box-shadow: 0px 1px 2px rgba(60, 64, 67, 0.3), 0px 1px 3px 1px rgba(60, 64, 67, 0.15);\n",
              "      fill: #174EA6;\n",
              "    }\n",
              "\n",
              "    [theme=dark] .colab-df-convert {\n",
              "      background-color: #3B4455;\n",
              "      fill: #D2E3FC;\n",
              "    }\n",
              "\n",
              "    [theme=dark] .colab-df-convert:hover {\n",
              "      background-color: #434B5C;\n",
              "      box-shadow: 0px 1px 3px 1px rgba(0, 0, 0, 0.15);\n",
              "      filter: drop-shadow(0px 1px 2px rgba(0, 0, 0, 0.3));\n",
              "      fill: #FFFFFF;\n",
              "    }\n",
              "  </style>\n",
              "\n",
              "      <script>\n",
              "        const buttonEl =\n",
              "          document.querySelector('#df-2b2eac08-41b5-453b-8d52-d1c1da4ab718 button.colab-df-convert');\n",
              "        buttonEl.style.display =\n",
              "          google.colab.kernel.accessAllowed ? 'block' : 'none';\n",
              "\n",
              "        async function convertToInteractive(key) {\n",
              "          const element = document.querySelector('#df-2b2eac08-41b5-453b-8d52-d1c1da4ab718');\n",
              "          const dataTable =\n",
              "            await google.colab.kernel.invokeFunction('convertToInteractive',\n",
              "                                                     [key], {});\n",
              "          if (!dataTable) return;\n",
              "\n",
              "          const docLinkHtml = 'Like what you see? Visit the ' +\n",
              "            '<a target=\"_blank\" href=https://colab.research.google.com/notebooks/data_table.ipynb>data table notebook</a>'\n",
              "            + ' to learn more about interactive tables.';\n",
              "          element.innerHTML = '';\n",
              "          dataTable['output_type'] = 'display_data';\n",
              "          await google.colab.output.renderOutput(dataTable, element);\n",
              "          const docLink = document.createElement('div');\n",
              "          docLink.innerHTML = docLinkHtml;\n",
              "          element.appendChild(docLink);\n",
              "        }\n",
              "      </script>\n",
              "    </div>\n",
              "  </div>\n",
              "  "
            ]
          },
          "metadata": {},
          "execution_count": 11
        }
      ]
    },
    {
      "cell_type": "code",
      "source": [
        "#creating a new dataframe excluding the outliers (orders with prices greater than 100) \n",
        "\n",
        "df_without_outliers = df.loc[df['prices'] <=100 ]"
      ],
      "metadata": {
        "id": "FwhZmtTp_XZ7"
      },
      "execution_count": 3,
      "outputs": []
    },
    {
      "cell_type": "code",
      "source": [
        "df_without_outliers.shape"
      ],
      "metadata": {
        "colab": {
          "base_uri": "https://localhost:8080/"
        },
        "id": "VDMj_91maRB8",
        "outputId": "3bacefa6-4ae7-4a13-e56a-299ffb6cf21d"
      },
      "execution_count": 4,
      "outputs": [
        {
          "output_type": "execute_result",
          "data": {
            "text/plain": [
              "(32399732, 31)"
            ]
          },
          "metadata": {},
          "execution_count": 4
        }
      ]
    },
    {
      "cell_type": "markdown",
      "source": [
        "32404859 - 5127 = 32399732"
      ],
      "metadata": {
        "id": "MTiwFuJJbCX3"
      }
    },
    {
      "cell_type": "code",
      "source": [
        "hist = df_without_outliers['prices'].plot.hist(bins = 25)"
      ],
      "metadata": {
        "colab": {
          "base_uri": "https://localhost:8080/",
          "height": 276
        },
        "id": "Qm5E46EfFiRK",
        "outputId": "e4be2b01-1329-487a-ca49-e18256941be0"
      },
      "execution_count": 5,
      "outputs": [
        {
          "output_type": "display_data",
          "data": {
            "text/plain": [
              "<Figure size 432x288 with 1 Axes>"
            ],
            "image/png": "[encoded data removed]"
          },
          "metadata": {
            "needs_background": "light"
          }
        }
      ]
    },
    {
      "cell_type": "code",
      "source": [
        "hist.figure.savefig('hist_prices.png')"
      ],
      "metadata": {
        "id": "Qv5q-4yAikWo"
      },
      "execution_count": 6,
      "outputs": []
    },
    {
      "cell_type": "code",
      "source": [
        "hist_2 = df_without_outliers['prices'].plot.hist(bins = 70)"
      ],
      "metadata": {
        "colab": {
          "base_uri": "https://localhost:8080/",
          "height": 276
        },
        "id": "V70IJ2uKFirt",
        "outputId": "aa615ad5-5638-48c6-f59a-5d5e66bf33d8"
      },
      "execution_count": 7,
      "outputs": [
        {
          "output_type": "display_data",
          "data": {
            "text/plain": [
              "<Figure size 432x288 with 1 Axes>"
            ],
            "image/png": "[encoded data removed]"
          },
          "metadata": {
            "needs_background": "light"
          }
        }
      ]
    },
    {
      "cell_type": "code",
      "source": [
        "hist_2.figure.savefig('hist_2_prices.png')"
      ],
      "metadata": {
        "id": "f0v-Il82inuL"
      },
      "execution_count": 8,
      "outputs": []
    },
    {
      "cell_type": "code",
      "source": [
        "from google.colab import drive\n",
        "\n",
        "df_without_outliers.to_pickle('/content/drive/My Drive/df_without_outliers_task_4.9.pkl')"
      ],
      "metadata": {
        "id": "Qud0VYYvckU4"
      },
      "execution_count": 9,
      "outputs": []
    }
  ]
}