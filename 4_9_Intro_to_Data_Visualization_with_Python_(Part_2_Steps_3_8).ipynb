{
  "nbformat": 4,
  "nbformat_minor": 0,
  "metadata": {
    "colab": {
      "provenance": [],
      "machine_shape": "hm"
    },
    "kernelspec": {
      "name": "python3",
      "display_name": "Python 3"
    },
    "language_info": {
      "name": "python"
    },
    "gpuClass": "standard"
  },
  "cells": [
    {
      "cell_type": "code",
      "execution_count": 1,
      "metadata": {
        "id": "ZYbNaL_fR0YP"
      },
      "outputs": [],
      "source": [
        "import numpy as np\n",
        "import pandas as pd\n",
        "import matplotlib.pyplot as plt\n",
        "import seaborn as sns\n",
        "import scipy"
      ]
    },
    {
      "cell_type": "code",
      "source": [
        "df = pd.read_pickle('/content/drive/MyDrive/df_without_outliers_task_4.9.pkl')"
      ],
      "metadata": {
        "id": "j3E_0g_SSSea"
      },
      "execution_count": 2,
      "outputs": []
    },
    {
      "cell_type": "code",
      "source": [
        "df_for_line_chart = pd.read_pickle('/content/drive/MyDrive/Small_for_Line_Charts_task_4.9.pkl')"
      ],
      "metadata": {
        "id": "JxoghDUlSU1y"
      },
      "execution_count": 3,
      "outputs": []
    },
    {
      "cell_type": "code",
      "source": [
        "df.head()"
      ],
      "metadata": {
        "colab": {
          "base_uri": "https://localhost:8080/",
          "height": 317
        },
        "id": "FsLmI_A8WRDa",
        "outputId": "7c7a489f-c512-4562-cef6-889d54cf81b9"
      },
      "execution_count": 4,
      "outputs": [
        {
          "output_type": "execute_result",
          "data": {
            "text/plain": [
              "   order_id  user_id  order_number  order_day_of_week  order_hour_of_day  \\\n",
              "0   2539329        1             1                  2                  8   \n",
              "1   2398795        1             2                  3                  7   \n",
              "2    473747        1             3                  3                 12   \n",
              "3   2254736        1             4                  4                  7   \n",
              "4    431534        1             5                  4                 15   \n",
              "\n",
              "   days_since_prior_order  product_id  add_to_cart_order  reordered  \\\n",
              "0                     NaN         196                  1          0   \n",
              "1                    15.0         196                  1          1   \n",
              "2                    21.0         196                  1          1   \n",
              "3                    29.0         196                  1          1   \n",
              "4                    28.0         196                  1          1   \n",
              "\n",
              "  product_name  ...  order_frequency_flag  First Name  Surname  Gender  \\\n",
              "0         Soda  ...      Regular customer       Linda   Nguyen  Female   \n",
              "1         Soda  ...      Regular customer       Linda   Nguyen  Female   \n",
              "2         Soda  ...      Regular customer       Linda   Nguyen  Female   \n",
              "3         Soda  ...      Regular customer       Linda   Nguyen  Female   \n",
              "4         Soda  ...      Regular customer       Linda   Nguyen  Female   \n",
              "\n",
              "     State Age  date_joined number_of_dependants  marital_status income  \n",
              "0  Alabama  31    2/17/2019                    3         married  40423  \n",
              "1  Alabama  31    2/17/2019                    3         married  40423  \n",
              "2  Alabama  31    2/17/2019                    3         married  40423  \n",
              "3  Alabama  31    2/17/2019                    3         married  40423  \n",
              "4  Alabama  31    2/17/2019                    3         married  40423  \n",
              "\n",
              "[5 rows x 31 columns]"
            ],
            "text/html": [
              "\n",
              "  <div id=\"df-f1b53735-34b7-4259-8d8e-9a9fb9257e70\">\n",
              "    <div class=\"colab-df-container\">\n",
              "      <div>\n",
              "<style scoped>\n",
              "    .dataframe tbody tr th:only-of-type {\n",
              "        vertical-align: middle;\n",
              "    }\n",
              "\n",
              "    .dataframe tbody tr th {\n",
              "        vertical-align: top;\n",
              "    }\n",
              "\n",
              "    .dataframe thead th {\n",
              "        text-align: right;\n",
              "    }\n",
              "</style>\n",
              "<table border=\"1\" class=\"dataframe\">\n",
              "  <thead>\n",
              "    <tr style=\"text-align: right;\">\n",
              "      <th></th>\n",
              "      <th>order_id</th>\n",
              "      <th>user_id</th>\n",
              "      <th>order_number</th>\n",
              "      <th>order_day_of_week</th>\n",
              "      <th>order_hour_of_day</th>\n",
              "      <th>days_since_prior_order</th>\n",
              "      <th>product_id</th>\n",
              "      <th>add_to_cart_order</th>\n",
              "      <th>reordered</th>\n",
              "      <th>product_name</th>\n",
              "      <th>...</th>\n",
              "      <th>order_frequency_flag</th>\n",
              "      <th>First Name</th>\n",
              "      <th>Surname</th>\n",
              "      <th>Gender</th>\n",
              "      <th>State</th>\n",
              "      <th>Age</th>\n",
              "      <th>date_joined</th>\n",
              "      <th>number_of_dependants</th>\n",
              "      <th>marital_status</th>\n",
              "      <th>income</th>\n",
              "    </tr>\n",
              "  </thead>\n",
              "  <tbody>\n",
              "    <tr>\n",
              "      <th>0</th>\n",
              "      <td>2539329</td>\n",
              "      <td>1</td>\n",
              "      <td>1</td>\n",
              "      <td>2</td>\n",
              "      <td>8</td>\n",
              "      <td>NaN</td>\n",
              "      <td>196</td>\n",
              "      <td>1</td>\n",
              "      <td>0</td>\n",
              "      <td>Soda</td>\n",
              "      <td>...</td>\n",
              "      <td>Regular customer</td>\n",
              "      <td>Linda</td>\n",
              "      <td>Nguyen</td>\n",
              "      <td>Female</td>\n",
              "      <td>Alabama</td>\n",
              "      <td>31</td>\n",
              "      <td>2/17/2019</td>\n",
              "      <td>3</td>\n",
              "      <td>married</td>\n",
              "      <td>40423</td>\n",
              "    </tr>\n",
              "    <tr>\n",
              "      <th>1</th>\n",
              "      <td>2398795</td>\n",
              "      <td>1</td>\n",
              "      <td>2</td>\n",
              "      <td>3</td>\n",
              "      <td>7</td>\n",
              "      <td>15.0</td>\n",
              "      <td>196</td>\n",
              "      <td>1</td>\n",
              "      <td>1</td>\n",
              "      <td>Soda</td>\n",
              "      <td>...</td>\n",
              "      <td>Regular customer</td>\n",
              "      <td>Linda</td>\n",
              "      <td>Nguyen</td>\n",
              "      <td>Female</td>\n",
              "      <td>Alabama</td>\n",
              "      <td>31</td>\n",
              "      <td>2/17/2019</td>\n",
              "      <td>3</td>\n",
              "      <td>married</td>\n",
              "      <td>40423</td>\n",
              "    </tr>\n",
              "    <tr>\n",
              "      <th>2</th>\n",
              "      <td>473747</td>\n",
              "      <td>1</td>\n",
              "      <td>3</td>\n",
              "      <td>3</td>\n",
              "      <td>12</td>\n",
              "      <td>21.0</td>\n",
              "      <td>196</td>\n",
              "      <td>1</td>\n",
              "      <td>1</td>\n",
              "      <td>Soda</td>\n",
              "      <td>...</td>\n",
              "      <td>Regular customer</td>\n",
              "      <td>Linda</td>\n",
              "      <td>Nguyen</td>\n",
              "      <td>Female</td>\n",
              "      <td>Alabama</td>\n",
              "      <td>31</td>\n",
              "      <td>2/17/2019</td>\n",
              "      <td>3</td>\n",
              "      <td>married</td>\n",
              "      <td>40423</td>\n",
              "    </tr>\n",
              "    <tr>\n",
              "      <th>3</th>\n",
              "      <td>2254736</td>\n",
              "      <td>1</td>\n",
              "      <td>4</td>\n",
              "      <td>4</td>\n",
              "      <td>7</td>\n",
              "      <td>29.0</td>\n",
              "      <td>196</td>\n",
              "      <td>1</td>\n",
              "      <td>1</td>\n",
              "      <td>Soda</td>\n",
              "      <td>...</td>\n",
              "      <td>Regular customer</td>\n",
              "      <td>Linda</td>\n",
              "      <td>Nguyen</td>\n",
              "      <td>Female</td>\n",
              "      <td>Alabama</td>\n",
              "      <td>31</td>\n",
              "      <td>2/17/2019</td>\n",
              "      <td>3</td>\n",
              "      <td>married</td>\n",
              "      <td>40423</td>\n",
              "    </tr>\n",
              "    <tr>\n",
              "      <th>4</th>\n",
              "      <td>431534</td>\n",
              "      <td>1</td>\n",
              "      <td>5</td>\n",
              "      <td>4</td>\n",
              "      <td>15</td>\n",
              "      <td>28.0</td>\n",
              "      <td>196</td>\n",
              "      <td>1</td>\n",
              "      <td>1</td>\n",
              "      <td>Soda</td>\n",
              "      <td>...</td>\n",
              "      <td>Regular customer</td>\n",
              "      <td>Linda</td>\n",
              "      <td>Nguyen</td>\n",
              "      <td>Female</td>\n",
              "      <td>Alabama</td>\n",
              "      <td>31</td>\n",
              "      <td>2/17/2019</td>\n",
              "      <td>3</td>\n",
              "      <td>married</td>\n",
              "      <td>40423</td>\n",
              "    </tr>\n",
              "  </tbody>\n",
              "</table>\n",
              "<p>5 rows × 31 columns</p>\n",
              "</div>\n",
              "      <button class=\"colab-df-convert\" onclick=\"convertToInteractive('df-f1b53735-34b7-4259-8d8e-9a9fb9257e70')\"\n",
              "              title=\"Convert this dataframe to an interactive table.\"\n",
              "              style=\"display:none;\">\n",
              "        \n",
              "  <svg xmlns=\"http://www.w3.org/2000/svg\" height=\"24px\"viewBox=\"0 0 24 24\"\n",
              "       width=\"24px\">\n",
              "    <path d=\"M0 0h24v24H0V0z\" fill=\"none\"/>\n",
              "    <path d=\"M18.56 5.44l.94 2.06.94-2.06 2.06-.94-2.06-.94-.94-2.06-.94 2.06-2.06.94zm-11 1L8.5 8.5l.94-2.06 2.06-.94-2.06-.94L8.5 2.5l-.94 2.06-2.06.94zm10 10l.94 2.06.94-2.06 2.06-.94-2.06-.94-.94-2.06-.94 2.06-2.06.94z\"/><path d=\"M17.41 7.96l-1.37-1.37c-.4-.4-.92-.59-1.43-.59-.52 0-1.04.2-1.43.59L10.3 9.45l-7.72 7.72c-.78.78-.78 2.05 0 2.83L4 21.41c.39.39.9.59 1.41.59.51 0 1.02-.2 1.41-.59l7.78-7.78 2.81-2.81c.8-.78.8-2.07 0-2.86zM5.41 20L4 18.59l7.72-7.72 1.47 1.35L5.41 20z\"/>\n",
              "  </svg>\n",
              "      </button>\n",
              "      \n",
              "  <style>\n",
              "    .colab-df-container {\n",
              "      display:flex;\n",
              "      flex-wrap:wrap;\n",
              "      gap: 12px;\n",
              "    }\n",
              "\n",
              "    .colab-df-convert {\n",
              "      background-color: #E8F0FE;\n",
              "      border: none;\n",
              "      border-radius: 50%;\n",
              "      cursor: pointer;\n",
              "      display: none;\n",
              "      fill: #1967D2;\n",
              "      height: 32px;\n",
              "      padding: 0 0 0 0;\n",
              "      width: 32px;\n",
              "    }\n",
              "\n",
              "    .colab-df-convert:hover {\n",
              "      background-color: #E2EBFA;\n",
              "      box-shadow: 0px 1px 2px rgba(60, 64, 67, 0.3), 0px 1px 3px 1px rgba(60, 64, 67, 0.15);\n",
              "      fill: #174EA6;\n",
              "    }\n",
              "\n",
              "    [theme=dark] .colab-df-convert {\n",
              "      background-color: #3B4455;\n",
              "      fill: #D2E3FC;\n",
              "    }\n",
              "\n",
              "    [theme=dark] .colab-df-convert:hover {\n",
              "      background-color: #434B5C;\n",
              "      box-shadow: 0px 1px 3px 1px rgba(0, 0, 0, 0.15);\n",
              "      filter: drop-shadow(0px 1px 2px rgba(0, 0, 0, 0.3));\n",
              "      fill: #FFFFFF;\n",
              "    }\n",
              "  </style>\n",
              "\n",
              "      <script>\n",
              "        const buttonEl =\n",
              "          document.querySelector('#df-f1b53735-34b7-4259-8d8e-9a9fb9257e70 button.colab-df-convert');\n",
              "        buttonEl.style.display =\n",
              "          google.colab.kernel.accessAllowed ? 'block' : 'none';\n",
              "\n",
              "        async function convertToInteractive(key) {\n",
              "          const element = document.querySelector('#df-f1b53735-34b7-4259-8d8e-9a9fb9257e70');\n",
              "          const dataTable =\n",
              "            await google.colab.kernel.invokeFunction('convertToInteractive',\n",
              "                                                     [key], {});\n",
              "          if (!dataTable) return;\n",
              "\n",
              "          const docLinkHtml = 'Like what you see? Visit the ' +\n",
              "            '<a target=\"_blank\" href=https://colab.research.google.com/notebooks/data_table.ipynb>data table notebook</a>'\n",
              "            + ' to learn more about interactive tables.';\n",
              "          element.innerHTML = '';\n",
              "          dataTable['output_type'] = 'display_data';\n",
              "          await google.colab.output.renderOutput(dataTable, element);\n",
              "          const docLink = document.createElement('div');\n",
              "          docLink.innerHTML = docLinkHtml;\n",
              "          element.appendChild(docLink);\n",
              "        }\n",
              "      </script>\n",
              "    </div>\n",
              "  </div>\n",
              "  "
            ]
          },
          "metadata": {},
          "execution_count": 4
        }
      ]
    },
    {
      "cell_type": "code",
      "source": [
        "df_for_line_chart.head()"
      ],
      "metadata": {
        "colab": {
          "base_uri": "https://localhost:8080/",
          "height": 369
        },
        "id": "jKzJx352WU4g",
        "outputId": "6f61a8a4-9150-4e75-9961-6c4de9d5e5dc"
      },
      "execution_count": 5,
      "outputs": [
        {
          "output_type": "execute_result",
          "data": {
            "text/plain": [
              "    order_id  user_id  order_number  order_day_of_week  order_hour_of_day  \\\n",
              "0    2539329        1             1                  2                  8   \n",
              "2     473747        1             3                  3                 12   \n",
              "3    2254736        1             4                  4                  7   \n",
              "6     550135        1             7                  1                  9   \n",
              "10   2539329        1             1                  2                  8   \n",
              "\n",
              "    days_since_prior_order  product_id  add_to_cart_order  reordered  \\\n",
              "0                      NaN         196                  1          0   \n",
              "2                     21.0         196                  1          1   \n",
              "3                     29.0         196                  1          1   \n",
              "6                     20.0         196                  1          1   \n",
              "10                     NaN       14084                  2          0   \n",
              "\n",
              "                               product_name  ...  order_frequency_flag  \\\n",
              "0                                      Soda  ...      Regular customer   \n",
              "2                                      Soda  ...      Regular customer   \n",
              "3                                      Soda  ...      Regular customer   \n",
              "6                                      Soda  ...      Regular customer   \n",
              "10  Organic Unsweetened Vanilla Almond Milk  ...      Regular customer   \n",
              "\n",
              "    First Name  Surname  Gender    State Age  date_joined  \\\n",
              "0        Linda   Nguyen  Female  Alabama  31    2/17/2019   \n",
              "2        Linda   Nguyen  Female  Alabama  31    2/17/2019   \n",
              "3        Linda   Nguyen  Female  Alabama  31    2/17/2019   \n",
              "6        Linda   Nguyen  Female  Alabama  31    2/17/2019   \n",
              "10       Linda   Nguyen  Female  Alabama  31    2/17/2019   \n",
              "\n",
              "   number_of_dependants  marital_status income  \n",
              "0                     3         married  40423  \n",
              "2                     3         married  40423  \n",
              "3                     3         married  40423  \n",
              "6                     3         married  40423  \n",
              "10                    3         married  40423  \n",
              "\n",
              "[5 rows x 31 columns]"
            ],
            "text/html": [
              "\n",
              "  <div id=\"df-53c0463b-7a04-4d1f-a2d1-15bb3d74d608\">\n",
              "    <div class=\"colab-df-container\">\n",
              "      <div>\n",
              "<style scoped>\n",
              "    .dataframe tbody tr th:only-of-type {\n",
              "        vertical-align: middle;\n",
              "    }\n",
              "\n",
              "    .dataframe tbody tr th {\n",
              "        vertical-align: top;\n",
              "    }\n",
              "\n",
              "    .dataframe thead th {\n",
              "        text-align: right;\n",
              "    }\n",
              "</style>\n",
              "<table border=\"1\" class=\"dataframe\">\n",
              "  <thead>\n",
              "    <tr style=\"text-align: right;\">\n",
              "      <th></th>\n",
              "      <th>order_id</th>\n",
              "      <th>user_id</th>\n",
              "      <th>order_number</th>\n",
              "      <th>order_day_of_week</th>\n",
              "      <th>order_hour_of_day</th>\n",
              "      <th>days_since_prior_order</th>\n",
              "      <th>product_id</th>\n",
              "      <th>add_to_cart_order</th>\n",
              "      <th>reordered</th>\n",
              "      <th>product_name</th>\n",
              "      <th>...</th>\n",
              "      <th>order_frequency_flag</th>\n",
              "      <th>First Name</th>\n",
              "      <th>Surname</th>\n",
              "      <th>Gender</th>\n",
              "      <th>State</th>\n",
              "      <th>Age</th>\n",
              "      <th>date_joined</th>\n",
              "      <th>number_of_dependants</th>\n",
              "      <th>marital_status</th>\n",
              "      <th>income</th>\n",
              "    </tr>\n",
              "  </thead>\n",
              "  <tbody>\n",
              "    <tr>\n",
              "      <th>0</th>\n",
              "      <td>2539329</td>\n",
              "      <td>1</td>\n",
              "      <td>1</td>\n",
              "      <td>2</td>\n",
              "      <td>8</td>\n",
              "      <td>NaN</td>\n",
              "      <td>196</td>\n",
              "      <td>1</td>\n",
              "      <td>0</td>\n",
              "      <td>Soda</td>\n",
              "      <td>...</td>\n",
              "      <td>Regular customer</td>\n",
              "      <td>Linda</td>\n",
              "      <td>Nguyen</td>\n",
              "      <td>Female</td>\n",
              "      <td>Alabama</td>\n",
              "      <td>31</td>\n",
              "      <td>2/17/2019</td>\n",
              "      <td>3</td>\n",
              "      <td>married</td>\n",
              "      <td>40423</td>\n",
              "    </tr>\n",
              "    <tr>\n",
              "      <th>2</th>\n",
              "      <td>473747</td>\n",
              "      <td>1</td>\n",
              "      <td>3</td>\n",
              "      <td>3</td>\n",
              "      <td>12</td>\n",
              "      <td>21.0</td>\n",
              "      <td>196</td>\n",
              "      <td>1</td>\n",
              "      <td>1</td>\n",
              "      <td>Soda</td>\n",
              "      <td>...</td>\n",
              "      <td>Regular customer</td>\n",
              "      <td>Linda</td>\n",
              "      <td>Nguyen</td>\n",
              "      <td>Female</td>\n",
              "      <td>Alabama</td>\n",
              "      <td>31</td>\n",
              "      <td>2/17/2019</td>\n",
              "      <td>3</td>\n",
              "      <td>married</td>\n",
              "      <td>40423</td>\n",
              "    </tr>\n",
              "    <tr>\n",
              "      <th>3</th>\n",
              "      <td>2254736</td>\n",
              "      <td>1</td>\n",
              "      <td>4</td>\n",
              "      <td>4</td>\n",
              "      <td>7</td>\n",
              "      <td>29.0</td>\n",
              "      <td>196</td>\n",
              "      <td>1</td>\n",
              "      <td>1</td>\n",
              "      <td>Soda</td>\n",
              "      <td>...</td>\n",
              "      <td>Regular customer</td>\n",
              "      <td>Linda</td>\n",
              "      <td>Nguyen</td>\n",
              "      <td>Female</td>\n",
              "      <td>Alabama</td>\n",
              "      <td>31</td>\n",
              "      <td>2/17/2019</td>\n",
              "      <td>3</td>\n",
              "      <td>married</td>\n",
              "      <td>40423</td>\n",
              "    </tr>\n",
              "    <tr>\n",
              "      <th>6</th>\n",
              "      <td>550135</td>\n",
              "      <td>1</td>\n",
              "      <td>7</td>\n",
              "      <td>1</td>\n",
              "      <td>9</td>\n",
              "      <td>20.0</td>\n",
              "      <td>196</td>\n",
              "      <td>1</td>\n",
              "      <td>1</td>\n",
              "      <td>Soda</td>\n",
              "      <td>...</td>\n",
              "      <td>Regular customer</td>\n",
              "      <td>Linda</td>\n",
              "      <td>Nguyen</td>\n",
              "      <td>Female</td>\n",
              "      <td>Alabama</td>\n",
              "      <td>31</td>\n",
              "      <td>2/17/2019</td>\n",
              "      <td>3</td>\n",
              "      <td>married</td>\n",
              "      <td>40423</td>\n",
              "    </tr>\n",
              "    <tr>\n",
              "      <th>10</th>\n",
              "      <td>2539329</td>\n",
              "      <td>1</td>\n",
              "      <td>1</td>\n",
              "      <td>2</td>\n",
              "      <td>8</td>\n",
              "      <td>NaN</td>\n",
              "      <td>14084</td>\n",
              "      <td>2</td>\n",
              "      <td>0</td>\n",
              "      <td>Organic Unsweetened Vanilla Almond Milk</td>\n",
              "      <td>...</td>\n",
              "      <td>Regular customer</td>\n",
              "      <td>Linda</td>\n",
              "      <td>Nguyen</td>\n",
              "      <td>Female</td>\n",
              "      <td>Alabama</td>\n",
              "      <td>31</td>\n",
              "      <td>2/17/2019</td>\n",
              "      <td>3</td>\n",
              "      <td>married</td>\n",
              "      <td>40423</td>\n",
              "    </tr>\n",
              "  </tbody>\n",
              "</table>\n",
              "<p>5 rows × 31 columns</p>\n",
              "</div>\n",
              "      <button class=\"colab-df-convert\" onclick=\"convertToInteractive('df-53c0463b-7a04-4d1f-a2d1-15bb3d74d608')\"\n",
              "              title=\"Convert this dataframe to an interactive table.\"\n",
              "              style=\"display:none;\">\n",
              "        \n",
              "  <svg xmlns=\"http://www.w3.org/2000/svg\" height=\"24px\"viewBox=\"0 0 24 24\"\n",
              "       width=\"24px\">\n",
              "    <path d=\"M0 0h24v24H0V0z\" fill=\"none\"/>\n",
              "    <path d=\"M18.56 5.44l.94 2.06.94-2.06 2.06-.94-2.06-.94-.94-2.06-.94 2.06-2.06.94zm-11 1L8.5 8.5l.94-2.06 2.06-.94-2.06-.94L8.5 2.5l-.94 2.06-2.06.94zm10 10l.94 2.06.94-2.06 2.06-.94-2.06-.94-.94-2.06-.94 2.06-2.06.94z\"/><path d=\"M17.41 7.96l-1.37-1.37c-.4-.4-.92-.59-1.43-.59-.52 0-1.04.2-1.43.59L10.3 9.45l-7.72 7.72c-.78.78-.78 2.05 0 2.83L4 21.41c.39.39.9.59 1.41.59.51 0 1.02-.2 1.41-.59l7.78-7.78 2.81-2.81c.8-.78.8-2.07 0-2.86zM5.41 20L4 18.59l7.72-7.72 1.47 1.35L5.41 20z\"/>\n",
              "  </svg>\n",
              "      </button>\n",
              "      \n",
              "  <style>\n",
              "    .colab-df-container {\n",
              "      display:flex;\n",
              "      flex-wrap:wrap;\n",
              "      gap: 12px;\n",
              "    }\n",
              "\n",
              "    .colab-df-convert {\n",
              "      background-color: #E8F0FE;\n",
              "      border: none;\n",
              "      border-radius: 50%;\n",
              "      cursor: pointer;\n",
              "      display: none;\n",
              "      fill: #1967D2;\n",
              "      height: 32px;\n",
              "      padding: 0 0 0 0;\n",
              "      width: 32px;\n",
              "    }\n",
              "\n",
              "    .colab-df-convert:hover {\n",
              "      background-color: #E2EBFA;\n",
              "      box-shadow: 0px 1px 2px rgba(60, 64, 67, 0.3), 0px 1px 3px 1px rgba(60, 64, 67, 0.15);\n",
              "      fill: #174EA6;\n",
              "    }\n",
              "\n",
              "    [theme=dark] .colab-df-convert {\n",
              "      background-color: #3B4455;\n",
              "      fill: #D2E3FC;\n",
              "    }\n",
              "\n",
              "    [theme=dark] .colab-df-convert:hover {\n",
              "      background-color: #434B5C;\n",
              "      box-shadow: 0px 1px 3px 1px rgba(0, 0, 0, 0.15);\n",
              "      filter: drop-shadow(0px 1px 2px rgba(0, 0, 0, 0.3));\n",
              "      fill: #FFFFFF;\n",
              "    }\n",
              "  </style>\n",
              "\n",
              "      <script>\n",
              "        const buttonEl =\n",
              "          document.querySelector('#df-53c0463b-7a04-4d1f-a2d1-15bb3d74d608 button.colab-df-convert');\n",
              "        buttonEl.style.display =\n",
              "          google.colab.kernel.accessAllowed ? 'block' : 'none';\n",
              "\n",
              "        async function convertToInteractive(key) {\n",
              "          const element = document.querySelector('#df-53c0463b-7a04-4d1f-a2d1-15bb3d74d608');\n",
              "          const dataTable =\n",
              "            await google.colab.kernel.invokeFunction('convertToInteractive',\n",
              "                                                     [key], {});\n",
              "          if (!dataTable) return;\n",
              "\n",
              "          const docLinkHtml = 'Like what you see? Visit the ' +\n",
              "            '<a target=\"_blank\" href=https://colab.research.google.com/notebooks/data_table.ipynb>data table notebook</a>'\n",
              "            + ' to learn more about interactive tables.';\n",
              "          element.innerHTML = '';\n",
              "          dataTable['output_type'] = 'display_data';\n",
              "          await google.colab.output.renderOutput(dataTable, element);\n",
              "          const docLink = document.createElement('div');\n",
              "          docLink.innerHTML = docLinkHtml;\n",
              "          element.appendChild(docLink);\n",
              "        }\n",
              "      </script>\n",
              "    </div>\n",
              "  </div>\n",
              "  "
            ]
          },
          "metadata": {},
          "execution_count": 5
        }
      ]
    },
    {
      "cell_type": "code",
      "source": [
        "df_for_line_chart.shape"
      ],
      "metadata": {
        "colab": {
          "base_uri": "https://localhost:8080/"
        },
        "id": "OWaZ9irechcg",
        "outputId": "148434d4-14cd-481a-a2d0-aa19b832b9a0"
      },
      "execution_count": 6,
      "outputs": [
        {
          "output_type": "execute_result",
          "data": {
            "text/plain": [
              "(9719609, 31)"
            ]
          },
          "metadata": {},
          "execution_count": 6
        }
      ]
    },
    {
      "cell_type": "markdown",
      "source": [
        "**Step 3:** You need to provide the Instacart senior stakeholders with descriptive findings about sales. Create a histogram of the “order_hour_of_day” column.\n",
        "\n",
        "\n",
        "*   In a markdown cell beneath your histogram, describe what the histogram demonstrates.\n",
        "\n"
      ],
      "metadata": {
        "id": "PaNncYm7SgDq"
      }
    },
    {
      "cell_type": "code",
      "source": [
        "hist = df['order_hour_of_day'].plot.hist(bins = 48)"
      ],
      "metadata": {
        "colab": {
          "base_uri": "https://localhost:8080/",
          "height": 276
        },
        "id": "_mGVUaQvSmnJ",
        "outputId": "9d122709-baa6-4220-d51b-d01834e75cb8"
      },
      "execution_count": 12,
      "outputs": [
        {
          "output_type": "display_data",
          "data": {
            "text/plain": [
              "<Figure size 432x288 with 1 Axes>"
            ],
            "image/png": "[encoded data removed]"
          },
          "metadata": {
            "needs_background": "light"
          }
        }
      ]
    },
    {
      "cell_type": "markdown",
      "source": [
        "**Answer:** In the order_hour_of_day column, 0 means 12 a.m, 10 means 10 a.m. \n",
        "\n",
        "We can see from the histogram that, the number of orders start to rise at 5 a.m. in the morning and is at it's peak from 10 a.m. to 3 p.m. After 3 p.m, number of orders start to gradually decline. "
      ],
      "metadata": {
        "id": "dy5tji9FiaNv"
      }
    },
    {
      "cell_type": "markdown",
      "source": [
        "**Step 4:** The marketing team is curious about the distribution of orders among customers in terms of loyalty. Create a bar chart from the “loyalty_flag” column."
      ],
      "metadata": {
        "id": "lHIz0wwRSm6v"
      }
    },
    {
      "cell_type": "code",
      "source": [
        "df['loyalty_flag'].value_counts().sort_index().plot.bar()"
      ],
      "metadata": {
        "colab": {
          "base_uri": "https://localhost:8080/",
          "height": 372
        },
        "id": "xTezUqMdSsCA",
        "outputId": "01a60d61-8336-4928-e8d6-217722943c13"
      },
      "execution_count": 15,
      "outputs": [
        {
          "output_type": "execute_result",
          "data": {
            "text/plain": [
              "<matplotlib.axes._subplots.AxesSubplot at 0x7fe376cd64f0>"
            ]
          },
          "metadata": {},
          "execution_count": 15
        },
        {
          "output_type": "display_data",
          "data": {
            "text/plain": [
              "<Figure size 432x288 with 1 Axes>"
            ],
            "image/png": "[encoded data removed]"
          },
          "metadata": {
            "needs_background": "light"
          }
        }
      ]
    },
    {
      "cell_type": "code",
      "source": [
        "bar = df['loyalty_flag'].value_counts().sort_index().plot.bar()"
      ],
      "metadata": {
        "colab": {
          "base_uri": "https://localhost:8080/",
          "height": 355
        },
        "id": "3UrPsHDFgqTU",
        "outputId": "7106a073-f1ec-4297-893f-2b07e1070ac8"
      },
      "execution_count": 21,
      "outputs": [
        {
          "output_type": "display_data",
          "data": {
            "text/plain": [
              "<Figure size 432x288 with 1 Axes>"
            ],
            "image/png": "[encoded data removed]"
          },
          "metadata": {
            "needs_background": "light"
          }
        }
      ]
    },
    {
      "cell_type": "markdown",
      "source": [
        "**Step 5:** Check whether there’s a difference in expenditure (the “prices” column) depending on the hour of the day. (Hint: To check this, you need to use an accurate sample for your line chart!)"
      ],
      "metadata": {
        "id": "mmnMqgB8SsTz"
      }
    },
    {
      "cell_type": "code",
      "source": [
        "df_line_chart = df_for_line_chart[['order_hour_of_day','prices']]"
      ],
      "metadata": {
        "id": "21O94kc5SyGb"
      },
      "execution_count": 17,
      "outputs": []
    },
    {
      "cell_type": "code",
      "source": [
        "line = sns.lineplot(data = df_line_chart, x = 'order_hour_of_day',y = 'prices')"
      ],
      "metadata": {
        "colab": {
          "base_uri": "https://localhost:8080/",
          "height": 280
        },
        "id": "LffnU7UofAw4",
        "outputId": "f2d9b41c-0d03-4a24-cf66-5ac36a52e69c"
      },
      "execution_count": 18,
      "outputs": [
        {
          "output_type": "display_data",
          "data": {
            "text/plain": [
              "<Figure size 432x288 with 1 Axes>"
            ],
            "image/png": "[encoded data removed]"
          },
          "metadata": {
            "needs_background": "light"
          }
        }
      ]
    },
    {
      "cell_type": "markdown",
      "source": [
        "**Step 6:** Now that you have information about customers, you need to conduct some exploratory analysis of customer demographics to inform the targeted marketing campaigns. First, determine whether there’s a connection between age and family situation by creating a line chart exploring the connections between age and number of dependents:\n",
        "\n",
        "\n",
        "*   In a markdown cell beneath your line chart, describe what the line chart shows.\n"
      ],
      "metadata": {
        "id": "keFORzyUSybX"
      }
    },
    {
      "cell_type": "code",
      "source": [
        "df_line_chart_2 = df_for_line_chart[['Age','number_of_dependants']]"
      ],
      "metadata": {
        "id": "qIlxYqW3TNQb"
      },
      "execution_count": 19,
      "outputs": []
    },
    {
      "cell_type": "code",
      "source": [
        "line_2 = sns.lineplot(data = df_line_chart_2, x = 'Age',y = 'number_of_dependants')"
      ],
      "metadata": {
        "colab": {
          "base_uri": "https://localhost:8080/",
          "height": 279
        },
        "id": "Xs23p-PlgEeh",
        "outputId": "1cc23d1c-a86b-49a8-c95a-8ba013154ec5"
      },
      "execution_count": 20,
      "outputs": [
        {
          "output_type": "display_data",
          "data": {
            "text/plain": [
              "<Figure size 432x288 with 1 Axes>"
            ],
            "image/png": "[encoded data removed]"
          },
          "metadata": {
            "needs_background": "light"
          }
        }
      ]
    },
    {
      "cell_type": "markdown",
      "source": [
        "**Answer:** Seems like, there is no correlation between age and number of family dependencies, and the number of family dependencies are quite random. "
      ],
      "metadata": {
        "id": "uCC4jhJkkYJy"
      }
    },
    {
      "cell_type": "markdown",
      "source": [
        "**Step 7:** You’ll also need to explore whether there’s a connection between age and spending power (income). To visualize this relationship, create a scatterplot using the sns.scatterplot() function.\n",
        "\n",
        "\n",
        "*   In a markdown cell beneath your scatterplot, describe what the scatterplot shows.\n",
        "\n"
      ],
      "metadata": {
        "id": "SkelibolTNg3"
      }
    },
    {
      "cell_type": "code",
      "source": [
        "df_scatterplot = df[['Age','income']]"
      ],
      "metadata": {
        "id": "8e8ydaGSTN0o"
      },
      "execution_count": 22,
      "outputs": []
    },
    {
      "cell_type": "code",
      "source": [
        "scatter_plot = sns.scatterplot(x = 'Age', y = 'income',data = df_scatterplot)"
      ],
      "metadata": {
        "colab": {
          "base_uri": "https://localhost:8080/",
          "height": 279
        },
        "id": "D1Dqx2C6gUl0",
        "outputId": "91e0c61d-7f47-454b-a0d7-f7c58cdb28f3"
      },
      "execution_count": 23,
      "outputs": [
        {
          "output_type": "display_data",
          "data": {
            "text/plain": [
              "<Figure size 432x288 with 1 Axes>"
            ],
            "image/png": "[encoded data removed]"
          },
          "metadata": {
            "needs_background": "light"
          }
        }
      ]
    },
    {
      "cell_type": "markdown",
      "source": [
        "**Answer:**  There seems to be a connection between age and spending power. Customers with the highest incomes are aged between above 40 to 80. "
      ],
      "metadata": {
        "id": "M8DKSkm-k5BM"
      }
    },
    {
      "cell_type": "markdown",
      "source": [
        "**Step 8:** Export your visualizations as “.png” files in your relevant project folder."
      ],
      "metadata": {
        "id": "xHymL3sUTOJg"
      }
    },
    {
      "cell_type": "code",
      "source": [
        "hist.figure.savefig('order_hour_of_day.png')"
      ],
      "metadata": {
        "id": "P6tdRFDahEaN"
      },
      "execution_count": 24,
      "outputs": []
    },
    {
      "cell_type": "code",
      "source": [
        "bar.figure.savefig('loyalty_flag.png')"
      ],
      "metadata": {
        "id": "lcS-CZLSgm5V"
      },
      "execution_count": 25,
      "outputs": []
    },
    {
      "cell_type": "code",
      "source": [
        "line.figure.savefig('prices_per_order_hour_of_day.png')"
      ],
      "metadata": {
        "id": "YJgUUDX_gl-C"
      },
      "execution_count": 26,
      "outputs": []
    },
    {
      "cell_type": "code",
      "source": [
        "line_2.figure.savefig('number_of_family_dependencies_by_age.png')"
      ],
      "metadata": {
        "id": "uDwJ9Ao4giUe"
      },
      "execution_count": 27,
      "outputs": []
    },
    {
      "cell_type": "code",
      "source": [
        "scatter_plot.figure.savefig('income_by_age.png')"
      ],
      "metadata": {
        "id": "0u0chd-Og5DB"
      },
      "execution_count": 28,
      "outputs": []
    }
  ]
}